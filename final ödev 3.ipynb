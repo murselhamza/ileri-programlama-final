{
 "cells": [
  {
   "cell_type": "code",
   "execution_count": null,
   "id": "741f814d",
   "metadata": {},
   "outputs": [],
   "source": [
    "import pandas as pd\n",
    "import numpy as np\n",
    "\n",
    "data = {\n",
    "    'X': [1, 2, 2, 3, 4, 5, 6, 6, 8, 10, 11],\n",
    "    'Y': [3, 5, 3, 9, 7, 2, 8, 6, 6, 1],\n",
    "    'Z': ['Negatif', 'Pozitif', 'Pozitif', 'Negatif', 'Negatif', 'Pozitif', 'Pozitif', 'Negatif', 'Negatif', 'Negatif']\n",
    "}\n",
    "\n",
    "df = pd.DataFrame(data)\n",
    "\n",
    "\n",
    "new_x = 7\n",
    "new_y = 3\n",
    "\n",
    "\n",
    "df['Uzaklık'] = np.sqrt((df['X'] - new_x) * 2 + (df['Y'] - new_y) * 2)\n",
    "\n",
    "\n",
    "df = df.sort_values('Uzaklık')\n",
    "\n",
    "\n",
    "df['Siralama'] = range(1, len(df) + 1)\n",
    "\n",
    "print(df)\n",
    "print(\"X koordinatları:\")\n",
    "print(df['X'])\n",
    "print(\"Y koordinatları:\")\n",
    "print(df['Y'])"
   ]
  }
 ],
 "metadata": {
  "kernelspec": {
   "display_name": "Python 3 (ipykernel)",
   "language": "python",
   "name": "python3"
  },
  "language_info": {
   "codemirror_mode": {
    "name": "ipython",
    "version": 3
   },
   "file_extension": ".py",
   "mimetype": "text/x-python",
   "name": "python",
   "nbconvert_exporter": "python",
   "pygments_lexer": "ipython3",
   "version": "3.10.9"
  }
 },
 "nbformat": 4,
 "nbformat_minor": 5
}
