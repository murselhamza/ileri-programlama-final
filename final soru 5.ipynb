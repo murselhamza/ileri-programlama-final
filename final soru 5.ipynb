{
 "cells": [
  {
   "cell_type": "code",
   "execution_count": 1,
   "id": "dcd5481b",
   "metadata": {},
   "outputs": [
    {
     "name": "stdout",
     "output_type": "stream",
     "text": [
      "Katsayılar:  [-1.44889538 -1.77146769 -0.20600714  2.72434598]\n",
      "Kesme terimi:  7.471704693023355\n"
     ]
    }
   ],
   "source": [
    "import numpy as np\n",
    "\n",
    "# Örnek verileri tanımlayın\n",
    "x1 = np.array([5.1, 4.9, 7, 6.4, 6.3, 5.8])\n",
    "x2 = np.array([3.5, 3, 3.2, 3.2, 3.3, 2.7])\n",
    "x3 = np.array([1.4, 1.4, 4.7, 4.5, 6, 5.1])\n",
    "x4 = np.array([4, 8, 12, 16, 20, 24])\n",
    "y = np.array([6, 15, 24, 34, 45, 60])\n",
    "\n",
    "# Giriş matrisini oluşturun\n",
    "X = np.column_stack((x1, x2, x3, x4))\n",
    "\n",
    "# Giriş matrisine bir sütun birim ekleyin\n",
    "ones = np.ones((X.shape[0], 1))\n",
    "X = np.concatenate((ones, X), axis=1)\n",
    "\n",
    "# Doğrusal regresyon katsayılarını hesaplayın\n",
    "coefficients = np.linalg.inv(X.T.dot(X)).dot(X.T).dot(y)\n",
    "\n",
    "# Katsayıları ve kesme terimini ayırın\n",
    "intercept = coefficients[0]\n",
    "coefficients = coefficients[1:]\n",
    "\n",
    "print(\"Katsayılar: \", coefficients)\n",
    "print(\"Kesme terimi: \", intercept)"
   ]
  },
  {
   "cell_type": "code",
   "execution_count": null,
   "id": "29726d84",
   "metadata": {},
   "outputs": [],
   "source": []
  }
 ],
 "metadata": {
  "kernelspec": {
   "display_name": "Python 3 (ipykernel)",
   "language": "python",
   "name": "python3"
  },
  "language_info": {
   "codemirror_mode": {
    "name": "ipython",
    "version": 3
   },
   "file_extension": ".py",
   "mimetype": "text/x-python",
   "name": "python",
   "nbconvert_exporter": "python",
   "pygments_lexer": "ipython3",
   "version": "3.10.9"
  }
 },
 "nbformat": 4,
 "nbformat_minor": 5
}
