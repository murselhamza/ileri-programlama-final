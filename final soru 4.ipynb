{
 "cells": [
  {
   "cell_type": "code",
   "execution_count": null,
   "id": "12c5f868",
   "metadata": {},
   "outputs": [],
   "source": [
    "import numpy as np\n",
    "import pandas as pd\n",
    "import matplotlib.pyplot as plt\n",
    "\n",
    "data = np.array([15, 15, 16, 19, 19, 20, 20, 21, 22, 28, 35, 40, 41, 42, 43, 44, 60, 61, 65])\n",
    "c1 = 16\n",
    "c2 = 22\n",
    "\n",
    "def perform_iteration(data, c1, c2):\n",
    "    distances = np.zeros(len(data))\n",
    "    for i in range(len(data)):\n",
    "        distances[i] = np.abs(data[i] - c1)\n",
    "        \n",
    "    cluster1 = data[distances <= np.abs(data - c2)]\n",
    "    cluster2 = data[distances > np.abs(data - c2)]\n",
    "    \n",
    "    new_c1 = np.mean(cluster1)\n",
    "    new_c2 = np.mean(cluster2)\n",
    "    \n",
    "    return cluster1, cluster2, new_c1, new_c2\n",
    "\n",
    "iterations = 4\n",
    "results = []\n",
    "\n",
    "for i in range(iterations):\n",
    "    cluster1, cluster2, c1, c2 = perform_iteration(data, c1, c2)\n",
    "    results.append([i+1, cluster1, cluster2, c1, c2])\n",
    "\n",
    "df = pd.DataFrame(results, columns=['Iteration', 'Cluster 1', 'Cluster 2', 'New C1', 'New C2'])\n",
    "print(df)"
   ]
  }
 ],
 "metadata": {
  "kernelspec": {
   "display_name": "Python 3 (ipykernel)",
   "language": "python",
   "name": "python3"
  },
  "language_info": {
   "codemirror_mode": {
    "name": "ipython",
    "version": 3
   },
   "file_extension": ".py",
   "mimetype": "text/x-python",
   "name": "python",
   "nbconvert_exporter": "python",
   "pygments_lexer": "ipython3",
   "version": "3.10.9"
  }
 },
 "nbformat": 4,
 "nbformat_minor": 5
}
