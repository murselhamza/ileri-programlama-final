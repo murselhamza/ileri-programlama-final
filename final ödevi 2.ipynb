{
 "cells": [
  {
   "cell_type": "code",
   "execution_count": null,
   "id": "b6fa94d6",
   "metadata": {},
   "outputs": [],
   "source": [
    "import pandas as pd\n",
    "\n",
    "ogrencidata = {\n",
    "    \"AGE\": [\"GENÇ\", \"GENÇ\", \"ORTA YAŞLI\", \"YAŞLI\", \"YAŞLI\", \"YAŞLI\", \"ORTA YAŞLI\", \"GENÇ\", \"GENÇ\", \"YAŞLI\", \"GENÇ\", \"ORTA YAŞLI\", \"ORTA YAŞLI\", \"YAŞLI\"],\n",
    "    \"İNCOME\": [\"HİGH\", \"HİGH\", \"HİGH\", \"MEDİUM\", \"LOW\", \"LOW\", \"LOW\", \"MEDİUM\", \"LOW\", \"MEDİUM\", \"MEDİUM\", \"MEDİUM\", \"HİGH\", \"MEDİUM\"],\n",
    "    \"STUDENT\": [\"NO\", \"NO\", \"NO\", \"NO\", \"YES\", \"YES\", \"YES\", \"NO\", \"YES\", \"YES\", \"YES\", \"NO\", \"YES\", \"NO\"],\n",
    "    \"CREDIT RATING\": [\"FAİR\", \"EXCELLENT\", \"FAİR\", \"FAİR\", \"FAİR\", \"EXCELLENT\", \"EXCELLENT\", \"FAİR\", \"FAİR\", \"FAİR\", \"EXCELLENT\", \"EXCELLENT\", \"FAİR\", \"EXCELLENT\"],\n",
    "    \"COMPUTER\": [\"NO\", \"NO\", \"YES\", \"YES\", \"YES\", \"NO\", \"YES\", \"NO\", \"YES\", \"YES\", \"YES\", \"YES\", \"YES\", \"NO\"]\n",
    "}\n",
    "\n",
    "dfA = pd.DataFrame(ogrencidata)\n",
    "\n",
    "\n",
    "age = \"GENÇ\"\n",
    "income = \"MEDIUM\"\n",
    "student = \"YES\"\n",
    "credit_rating = \"FAIR\"\n",
    "\n",
    "\n",
    "PC = 0.643\n",
    "PnotC = 0.357\n",
    "\n",
    "\n",
    "PXgivenC = dfA[(dfA[\"AGE\"] == age) & (dfA[\"İNCOME\"] == income) & (dfA[\"STUDENT\"] == student) & (dfA[\"CREDIT RATING\"] == credit_rating)][\"COMPUTER\"].value_counts(normalize=True)[\"YES\"]\n",
    "PXgivennotC = dfA[(dfA[\"AGE\"] == age) & (dfA[\"İNCOME\"] == income) & (dfA[\"STUDENT\"] == student) & (dfA[\"CREDIT RATING\"] == credit_rating)][\"COMPUTER\"].value_counts(normalize=True)[\"NO\"]\n",
    "\n",
    "\n",
    "PXandC = PXgivenC * PC\n",
    "PXandnotC = PXgivennotC * PnotC\n",
    "\n",
    "\n",
    "if PXandC > PXandnotC:\n",
    "    print(\"Kişi bilgisayar alabilir.\")\n",
    "else:\n",
    "    print(\"Kişi bilgisayar alamaz.\")"
   ]
  }
 ],
 "metadata": {
  "kernelspec": {
   "display_name": "Python 3 (ipykernel)",
   "language": "python",
   "name": "python3"
  },
  "language_info": {
   "codemirror_mode": {
    "name": "ipython",
    "version": 3
   },
   "file_extension": ".py",
   "mimetype": "text/x-python",
   "name": "python",
   "nbconvert_exporter": "python",
   "pygments_lexer": "ipython3",
   "version": "3.10.9"
  }
 },
 "nbformat": 4,
 "nbformat_minor": 5
}
